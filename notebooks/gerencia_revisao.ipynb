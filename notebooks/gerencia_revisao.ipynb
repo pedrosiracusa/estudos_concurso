{
 "cells": [
  {
   "cell_type": "code",
   "execution_count": 1,
   "metadata": {},
   "outputs": [],
   "source": [
    "import gspread\n",
    "import pandas as pd\n",
    "from oauth2client.service_account import ServiceAccountCredentials\n",
    "from datetime import timedelta\n",
    "from datetime import datetime"
   ]
  },
  {
   "cell_type": "code",
   "execution_count": 2,
   "metadata": {},
   "outputs": [],
   "source": [
    "spreadsheet_name = \"controle\"\n",
    "credentialsFile_path = \"./credentials.json\""
   ]
  },
  {
   "cell_type": "code",
   "execution_count": 187,
   "metadata": {},
   "outputs": [],
   "source": [
    "# Google Drive Authentication\n",
    "scope = ['https://spreadsheets.google.com/feeds', 'https://www.googleapis.com/auth/drive']\n",
    "credentials = ServiceAccountCredentials.from_json_keyfile_name(credentialsFile_path, scope)\n",
    "gc = gspread.authorize(credentials)"
   ]
  },
  {
   "cell_type": "code",
   "execution_count": 54,
   "metadata": {},
   "outputs": [],
   "source": [
    "# GLobals\n",
    "\n",
    "# Default step factor to use\n",
    "STEP_FACTOR = 3\n",
    "\n",
    "COLS_TO_UPDATE = ['LAST_REVISION','STEP'] "
   ]
  },
  {
   "cell_type": "markdown",
   "metadata": {},
   "source": [
    "## Importing the worksheet into a dataframe"
   ]
  },
  {
   "cell_type": "code",
   "execution_count": 204,
   "metadata": {},
   "outputs": [],
   "source": [
    "def worksheetToDf(worksheet):\n",
    "    df = pd.DataFrame.from_records(worksheet.get_all_values())\n",
    "    df.columns = df.loc[0]\n",
    "    df.reindex(df.drop(0,inplace=True))\n",
    "    df.loc[ df['STEP_FACTOR']=='', 'STEP_FACTOR' ] = STEP_FACTOR\n",
    "\n",
    "    df['LAST_REVISION'] = pd.to_datetime(df['LAST_REVISION'])\n",
    "    df['STEP_FACTOR']= df['STEP_FACTOR'].astype(int)\n",
    "    df['STEP'] = df['STEP'].astype(int)\n",
    "    return df"
   ]
  },
  {
   "cell_type": "markdown",
   "metadata": {},
   "source": [
    "## Updating the worksheet using the dataframe"
   ]
  },
  {
   "cell_type": "code",
   "execution_count": 174,
   "metadata": {},
   "outputs": [],
   "source": [
    "def getCellsFromColumn(df,worksheet,colname):\n",
    "    colnames_dict = {n:i+1 for i,n in enumerate(df.columns)}\n",
    "    return worksheet.range( 2,colnames_dict[colname], df.shape[0]+1, colnames_dict[colname])\n",
    "\n",
    "def updateCells(df, worksheet, colname, inplace=False):\n",
    "    \"\"\" Updates worksheet cells based on the dataframe \"\"\"\n",
    "    \n",
    "    newvalues = list(df[colname])\n",
    "    \n",
    "    cells_list = getCellsFromColumn(df,worksheet,colname)\n",
    "    for i,cell in enumerate(cells_list):\n",
    "        cell.value = newvalues[i]\n",
    "        \n",
    "    if inplace: \n",
    "        worksheet.update_cells(cells_list)\n",
    "        \n",
    "    return cells_list\n",
    "\n",
    "def updateWorksheet(df,worksheet,columns=COLS_TO_UPDATE):\n",
    "    df['LAST_REVISION'] = df['LAST_REVISION'].astype(str)\n",
    "    for col in columns:\n",
    "        updateCells(df,worksheet,colname=col,inplace=True)"
   ]
  },
  {
   "cell_type": "markdown",
   "metadata": {},
   "source": [
    "---"
   ]
  },
  {
   "cell_type": "code",
   "execution_count": 7,
   "metadata": {},
   "outputs": [],
   "source": [
    "def getNextRevision(df, inplace=False):\n",
    "    next_revisions = df[['LAST_REVISION','STEP']].apply(lambda df: df['LAST_REVISION'] + timedelta(days=int(df['STEP'])), axis=1)\n",
    "    if inplace:\n",
    "        df['NEXT_REVISION'] = next_revisions\n",
    "    else:\n",
    "        return next_revisions\n",
    "    \n",
    "def isDue(df):\n",
    "    currentDate = datetime.now().date()\n",
    "    return df['NEXT_REVISION'] <= datetime.now()"
   ]
  },
  {
   "cell_type": "code",
   "execution_count": 86,
   "metadata": {},
   "outputs": [],
   "source": [
    "def updateStep(df, inplace=False):\n",
    "    max_step = 30\n",
    "    updated_steps = df[['STEP','STEP_FACTOR']].apply(lambda df: min( int(df['STEP'])*int(df['STEP_FACTOR']), max_step ) , axis=1)\n",
    "    if inplace:\n",
    "        df['STEP'] = updated_steps\n",
    "    else:\n",
    "        return updated_steps\n",
    "    \n",
    "def updateLastRevision(df,date=None):\n",
    "    if date is None:\n",
    "        date = pd.datetime.now().date().isoformat()\n",
    "        \n",
    "    df['LAST_REVISION'] = pd.to_datetime(date)"
   ]
  },
  {
   "cell_type": "markdown",
   "metadata": {},
   "source": [
    "---"
   ]
  },
  {
   "cell_type": "code",
   "execution_count": 141,
   "metadata": {},
   "outputs": [],
   "source": [
    "def getRevisionSession(df, num_blocks=3):\n",
    "    getNextRevision(df_revisoes, inplace=True)\n",
    "    return df.loc[ isDue(df) ].sort_values(by='NEXT_REVISION')[:num_blocks]"
   ]
  },
  {
   "cell_type": "code",
   "execution_count": 142,
   "metadata": {},
   "outputs": [],
   "source": [
    "def commitRevisionSession(df,rs, worksheetToUpdate=None):\n",
    "    updateStep(rs,inplace=True)\n",
    "    updateLastRevision(rs)\n",
    "    df.update(rs)\n",
    "    if worksheetToUpdate:\n",
    "        updateWorksheet(df,worksheetToUpdate)"
   ]
  },
  {
   "cell_type": "markdown",
   "metadata": {},
   "source": [
    "---"
   ]
  },
  {
   "cell_type": "code",
   "execution_count": 226,
   "metadata": {},
   "outputs": [
    {
     "name": "stdout",
     "output_type": "stream",
     "text": [
      "Aqui está sua sessão de revisão:\n",
      "0                 MATERIA              MATERIAL LAST_REVISION\n",
      "4                    MAT3               Aula XX    2019-03-01\n",
      "1  Direito Constitucional  Aula00 (Auditor RFB)    2019-03-10\n",
      "Posso confirmar? (y/n)y\n",
      "A tabela foi atualizada\n"
     ]
    }
   ],
   "source": [
    "if __name__=='__main__':\n",
    "    \n",
    "    # Reading data from spreadsheet\n",
    "    sprsh = gc.open(spreadsheet_name)\n",
    "    wsh_revisoes = sprsh.worksheet('revisoes')\n",
    "\n",
    "    df_revisoes = worksheetToDf(wsh_revisoes)\n",
    "    rs = getRevisionSession(df_revisoes, num_blocks = 3)\n",
    "    print(\"Aqui está sua sessão de revisão:\")\n",
    "    print(rs[['MATERIA','MATERIAL','LAST_REVISION']])\n",
    "    \n",
    "    if input(\"Posso confirmar? (y/n)\")=='y':\n",
    "        commitRevisionSession(df_revisoes, rs, worksheetToUpdate=wsh_revisoes)\n",
    "        print(\"A tabela foi atualizada\")\n",
    "    else:\n",
    "        print(\"Ok... não atualizei a tabela\")"
   ]
  }
 ],
 "metadata": {
  "kernelspec": {
   "display_name": "Python 3",
   "language": "python",
   "name": "python3"
  },
  "language_info": {
   "codemirror_mode": {
    "name": "ipython",
    "version": 3
   },
   "file_extension": ".py",
   "mimetype": "text/x-python",
   "name": "python",
   "nbconvert_exporter": "python",
   "pygments_lexer": "ipython3",
   "version": "3.6.5"
  }
 },
 "nbformat": 4,
 "nbformat_minor": 2
}
