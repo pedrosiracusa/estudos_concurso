{
 "cells": [
  {
   "cell_type": "code",
   "execution_count": 1,
   "metadata": {},
   "outputs": [],
   "source": [
    "import gspread\n",
    "import pandas as pd\n",
    "from oauth2client.service_account import ServiceAccountCredentials\n",
    "from datetime import timedelta\n",
    "from datetime import datetime"
   ]
  },
  {
   "cell_type": "code",
   "execution_count": 2,
   "metadata": {},
   "outputs": [],
   "source": [
    "spreadsheet_name = \"controle\"\n",
    "credentialsFile_path = \"./credentials.json\""
   ]
  },
  {
   "cell_type": "code",
   "execution_count": 3,
   "metadata": {},
   "outputs": [],
   "source": [
    "# Google Drive Authentication\n",
    "scope = ['https://spreadsheets.google.com/feeds', 'https://www.googleapis.com/auth/drive']\n",
    "credentials = ServiceAccountCredentials.from_json_keyfile_name(credentialsFile_path, scope)\n",
    "gc = gspread.authorize(credentials)"
   ]
  },
  {
   "cell_type": "code",
   "execution_count": 4,
   "metadata": {},
   "outputs": [],
   "source": [
    "# GLobals\n",
    "\n",
    "# Default step factor to use\n",
    "STEP_FACTOR = 3\n",
    "\n",
    "COLS_TO_UPDATE = ['REVISADO'] "
   ]
  },
  {
   "cell_type": "markdown",
   "metadata": {},
   "source": [
    "## Importing the worksheet into a dataframe"
   ]
  },
  {
   "cell_type": "code",
   "execution_count": 5,
   "metadata": {},
   "outputs": [],
   "source": [
    "def worksheetToDf(worksheet):\n",
    "    df = pd.DataFrame.from_records(worksheet.get_all_values())\n",
    "    df.drop( df[df[1]==''].index,inplace=True )\n",
    "    df.columns = df.loc[0]\n",
    "    df.reindex(df.drop(0,inplace=True))\n",
    "    df.loc[ df['STEP_FACTOR']=='', 'STEP_FACTOR' ] = STEP_FACTOR\n",
    "\n",
    "    df['LAST_REVISION'] = pd.to_datetime(df['LAST_REVISION'])\n",
    "    df['REVISADO'] = df['REVISADO'].astype(int)\n",
    "    df['STEP_FACTOR']= df['STEP_FACTOR'].astype(int)\n",
    "    df['STEP'] = df['STEP'].astype(int)\n",
    "    return df"
   ]
  },
  {
   "cell_type": "markdown",
   "metadata": {},
   "source": [
    "## Updating the worksheet using the dataframe"
   ]
  },
  {
   "cell_type": "code",
   "execution_count": 6,
   "metadata": {},
   "outputs": [],
   "source": [
    "def getCellsFromColumn(df,worksheet,colname):\n",
    "    colnames_dict = {n:i+1 for i,n in enumerate(df.columns)}\n",
    "    return worksheet.range( 2,colnames_dict[colname], df.shape[0]+1, colnames_dict[colname])\n",
    "\n",
    "def updateCells(df, worksheet, colname, inplace=False):\n",
    "    \"\"\" Updates worksheet cells based on the dataframe \"\"\"\n",
    "    \n",
    "    newvalues = list(df[colname])\n",
    "    \n",
    "    cells_list = getCellsFromColumn(df,worksheet,colname)\n",
    "    for i,cell in enumerate(cells_list):\n",
    "        cell.value = newvalues[i]\n",
    "        \n",
    "    if inplace: \n",
    "        worksheet.update_cells(cells_list)\n",
    "        \n",
    "    return cells_list\n",
    "\n",
    "def updateWorksheet(df,worksheet,columns=COLS_TO_UPDATE):\n",
    "    for col in columns:\n",
    "        updateCells(df,worksheet,colname=col,inplace=True)"
   ]
  },
  {
   "cell_type": "code",
   "execution_count": null,
   "metadata": {},
   "outputs": [],
   "source": []
  },
  {
   "cell_type": "markdown",
   "metadata": {},
   "source": [
    "---"
   ]
  },
  {
   "cell_type": "markdown",
   "metadata": {},
   "source": [
    "## Assembling new revision session"
   ]
  },
  {
   "cell_type": "code",
   "execution_count": 7,
   "metadata": {},
   "outputs": [],
   "source": [
    "def appendNextRevision(df):\n",
    "    next_revisions = df[['LAST_REVISION','STEP']].apply(lambda df: df['LAST_REVISION'] + timedelta(days=int(df['STEP'])), axis=1)\n",
    "    df['NEXT_REVISION'] = next_revisions\n",
    "    return df\n",
    "    \n",
    "def isDue(df):\n",
    "    currentDate = datetime.now().date()\n",
    "    return df['NEXT_REVISION'] <= datetime.now()"
   ]
  },
  {
   "cell_type": "code",
   "execution_count": 8,
   "metadata": {},
   "outputs": [],
   "source": [
    "def getRevisionSession(df, num_blocks=3):\n",
    "    appendNextRevision(df)\n",
    "    return df.loc[ isDue(df) ].sort_values(by='NEXT_REVISION')[:num_blocks]\n",
    "\n",
    "def commitRevisionSession(df,rs, worksheetToUpdate=None):\n",
    "    rs['REVISADO'] = 0\n",
    "    df.update(rs)\n",
    "    if worksheetToUpdate:\n",
    "        updateWorksheet(df,worksheetToUpdate)"
   ]
  },
  {
   "cell_type": "code",
   "execution_count": 10,
   "metadata": {},
   "outputs": [],
   "source": [
    "    sprsh = gc.open(spreadsheet_name)\n",
    "    wsh_revisoes = sprsh.worksheet('revisoes')\n",
    "\n",
    "    df_revisoes = worksheetToDf(wsh_revisoes)\n",
    "    rs = getRevisionSession(df_revisoes, num_blocks = 3)"
   ]
  },
  {
   "cell_type": "code",
   "execution_count": 11,
   "metadata": {},
   "outputs": [
    {
     "data": {
      "text/html": [
       "<div>\n",
       "<style scoped>\n",
       "    .dataframe tbody tr th:only-of-type {\n",
       "        vertical-align: middle;\n",
       "    }\n",
       "\n",
       "    .dataframe tbody tr th {\n",
       "        vertical-align: top;\n",
       "    }\n",
       "\n",
       "    .dataframe thead th {\n",
       "        text-align: right;\n",
       "    }\n",
       "</style>\n",
       "<table border=\"1\" class=\"dataframe\">\n",
       "  <thead>\n",
       "    <tr style=\"text-align: right;\">\n",
       "      <th></th>\n",
       "      <th>REVISADO</th>\n",
       "      <th>MATERIA</th>\n",
       "      <th>ASSUNTO</th>\n",
       "      <th>MATERIAL</th>\n",
       "      <th>LAST_REVISION</th>\n",
       "      <th>STEP</th>\n",
       "      <th>STEP_FACTOR</th>\n",
       "      <th>NEXT_REVISION</th>\n",
       "    </tr>\n",
       "  </thead>\n",
       "  <tbody>\n",
       "    <tr>\n",
       "      <th>16</th>\n",
       "      <td>1</td>\n",
       "      <td>MAT4</td>\n",
       "      <td></td>\n",
       "      <td>Aula 23 (Auditor RFB); Aula 24 II (Auditor RFB)</td>\n",
       "      <td>2019-03-10 15:47:41</td>\n",
       "      <td>1</td>\n",
       "      <td>2</td>\n",
       "      <td>2019-03-11 15:47:41</td>\n",
       "    </tr>\n",
       "    <tr>\n",
       "      <th>14</th>\n",
       "      <td>1</td>\n",
       "      <td>MAT2</td>\n",
       "      <td></td>\n",
       "      <td>Aula00 (Auditor RFB)</td>\n",
       "      <td>2019-03-10 15:47:41</td>\n",
       "      <td>2</td>\n",
       "      <td>2</td>\n",
       "      <td>2019-03-12 15:47:41</td>\n",
       "    </tr>\n",
       "    <tr>\n",
       "      <th>13</th>\n",
       "      <td>1</td>\n",
       "      <td>MAT1</td>\n",
       "      <td></td>\n",
       "      <td>Aula00 (Auditor RFB)</td>\n",
       "      <td>2019-03-10 15:47:41</td>\n",
       "      <td>3</td>\n",
       "      <td>1</td>\n",
       "      <td>2019-03-13 15:47:41</td>\n",
       "    </tr>\n",
       "  </tbody>\n",
       "</table>\n",
       "</div>"
      ],
      "text/plain": [
       "0   REVISADO MATERIA ASSUNTO                                         MATERIAL  \\\n",
       "16         1    MAT4          Aula 23 (Auditor RFB); Aula 24 II (Auditor RFB)   \n",
       "14         1    MAT2                                     Aula00 (Auditor RFB)   \n",
       "13         1    MAT1                                     Aula00 (Auditor RFB)   \n",
       "\n",
       "0        LAST_REVISION  STEP  STEP_FACTOR       NEXT_REVISION  \n",
       "16 2019-03-10 15:47:41     1            2 2019-03-11 15:47:41  \n",
       "14 2019-03-10 15:47:41     2            2 2019-03-12 15:47:41  \n",
       "13 2019-03-10 15:47:41     3            1 2019-03-13 15:47:41  "
      ]
     },
     "execution_count": 11,
     "metadata": {},
     "output_type": "execute_result"
    }
   ],
   "source": [
    "rs"
   ]
  },
  {
   "cell_type": "code",
   "execution_count": 16,
   "metadata": {},
   "outputs": [
    {
     "data": {
      "text/html": [
       "<div>\n",
       "<style scoped>\n",
       "    .dataframe tbody tr th:only-of-type {\n",
       "        vertical-align: middle;\n",
       "    }\n",
       "\n",
       "    .dataframe tbody tr th {\n",
       "        vertical-align: top;\n",
       "    }\n",
       "\n",
       "    .dataframe thead th {\n",
       "        text-align: right;\n",
       "    }\n",
       "</style>\n",
       "<table border=\"1\" class=\"dataframe\">\n",
       "  <thead>\n",
       "    <tr style=\"text-align: right;\">\n",
       "      <th></th>\n",
       "      <th>REVISADO</th>\n",
       "      <th>MATERIA</th>\n",
       "      <th>ASSUNTO</th>\n",
       "      <th>MATERIAL</th>\n",
       "      <th>LAST_REVISION</th>\n",
       "      <th>STEP</th>\n",
       "      <th>STEP_FACTOR</th>\n",
       "      <th>NEXT_REVISION</th>\n",
       "    </tr>\n",
       "  </thead>\n",
       "  <tbody>\n",
       "    <tr>\n",
       "      <th>4</th>\n",
       "      <td>0</td>\n",
       "      <td>MAT4</td>\n",
       "      <td></td>\n",
       "      <td>Aula 23 (Auditor RFB); Aula 24 II (Auditor RFB)</td>\n",
       "      <td>2019-03-10 15:47:41</td>\n",
       "      <td>1</td>\n",
       "      <td>2</td>\n",
       "      <td>2019-03-11 15:47:41</td>\n",
       "    </tr>\n",
       "    <tr>\n",
       "      <th>2</th>\n",
       "      <td>0</td>\n",
       "      <td>MAT2</td>\n",
       "      <td></td>\n",
       "      <td>Aula00 (Auditor RFB)</td>\n",
       "      <td>2019-03-10 15:47:41</td>\n",
       "      <td>2</td>\n",
       "      <td>2</td>\n",
       "      <td>2019-03-12 15:47:41</td>\n",
       "    </tr>\n",
       "    <tr>\n",
       "      <th>1</th>\n",
       "      <td>0</td>\n",
       "      <td>MAT1</td>\n",
       "      <td></td>\n",
       "      <td>Aula00 (Auditor RFB)</td>\n",
       "      <td>2019-03-10 15:47:41</td>\n",
       "      <td>3</td>\n",
       "      <td>1</td>\n",
       "      <td>2019-03-13 15:47:41</td>\n",
       "    </tr>\n",
       "  </tbody>\n",
       "</table>\n",
       "</div>"
      ],
      "text/plain": [
       "0  REVISADO MATERIA ASSUNTO                                         MATERIAL  \\\n",
       "4         0    MAT4          Aula 23 (Auditor RFB); Aula 24 II (Auditor RFB)   \n",
       "2         0    MAT2                                     Aula00 (Auditor RFB)   \n",
       "1         0    MAT1                                     Aula00 (Auditor RFB)   \n",
       "\n",
       "0       LAST_REVISION  STEP  STEP_FACTOR       NEXT_REVISION  \n",
       "4 2019-03-10 15:47:41     1            2 2019-03-11 15:47:41  \n",
       "2 2019-03-10 15:47:41     2            2 2019-03-12 15:47:41  \n",
       "1 2019-03-10 15:47:41     3            1 2019-03-13 15:47:41  "
      ]
     },
     "execution_count": 16,
     "metadata": {},
     "output_type": "execute_result"
    }
   ],
   "source": [
    "rs"
   ]
  },
  {
   "cell_type": "markdown",
   "metadata": {},
   "source": [
    "---"
   ]
  },
  {
   "cell_type": "code",
   "execution_count": 11,
   "metadata": {},
   "outputs": [
    {
     "name": "stdout",
     "output_type": "stream",
     "text": [
      "Sua sessão de revisão foi atualizada.\n",
      "Aqui estão as matérias:\n",
      "0 MATERIA                                         MATERIAL\n",
      "2    MAT4  Aula 23 (Auditor RFB); Aula 24 II (Auditor RFB)\n",
      "1    MAT1                             Aula00 (Auditor RFB)\n",
      "3    MAT2                             Aula00 (Auditor RFB)\n"
     ]
    }
   ],
   "source": [
    "if __name__=='__main__':\n",
    "    \n",
    "    # Reading data from spreadsheet\n",
    "    sprsh = gc.open(spreadsheet_name)\n",
    "    wsh_revisoes = sprsh.worksheet('revisoes')\n",
    "\n",
    "    df_revisoes = worksheetToDf(wsh_revisoes)\n",
    "    rs = getRevisionSession(df_revisoes, num_blocks = 3)\n",
    "    if rs.shape[0]==0:\n",
    "        print(\"Não há revisões a fazer\")\n",
    "    else:\n",
    "        commitRevisionSession(df_revisoes, rs, worksheetToUpdate=wsh_revisoes)\n",
    "        print(\"Sua sessão de revisão foi atualizada.\")\n",
    "        print(\"Aqui estão as matérias:\")\n",
    "        print(rs[['MATERIA','MATERIAL']])"
   ]
  }
 ],
 "metadata": {
  "kernelspec": {
   "display_name": "Python 3",
   "language": "python",
   "name": "python3"
  },
  "language_info": {
   "codemirror_mode": {
    "name": "ipython",
    "version": 3
   },
   "file_extension": ".py",
   "mimetype": "text/x-python",
   "name": "python",
   "nbconvert_exporter": "python",
   "pygments_lexer": "ipython3",
   "version": "3.6.5"
  }
 },
 "nbformat": 4,
 "nbformat_minor": 2
}
